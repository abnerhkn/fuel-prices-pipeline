{
 "cells": [
  {
   "cell_type": "markdown",
   "id": "345b58da",
   "metadata": {},
   "source": [
    "1. Extração\n",
    "- Nesta etapa, vamos extrair o CSV para a camada mais baixa (bronze) onde os dados brutos serão armazenados. "
   ]
  },
  {
   "cell_type": "code",
   "execution_count": null,
   "id": "0211d6bb",
   "metadata": {},
   "outputs": [],
   "source": [
    "# Importando as bibliotecas\n",
    "import pandas as pd\n",
    "import requests\n",
    "import os\n",
    "from datetime import date, timedelta, datetime\n",
    "from glob import glob\n",
    "from zipfile import BadZipFile"
   ]
  },
  {
   "cell_type": "code",
   "execution_count": null,
   "id": "1c31814d",
   "metadata": {},
   "outputs": [],
   "source": [
    "from datetime import date, timedelta\n",
    "\n",
    "def generate_weekly_files():\n",
    "    today = date.today()\n",
    "\n",
    "    \n",
    "    last_week_end = today - timedelta(days=today.weekday() + 1)\n",
    "    \n",
    "    \n",
    "    start = date(2025, 1, 5)\n",
    "    end = start + timedelta(days=6)\n",
    "\n",
    "    urls = []\n",
    "\n",
    "    while end <= last_week_end:\n",
    "        url = (\n",
    "            f\"https://www.gov.br/anp/pt-br/assuntos/precos-e-defesa-da-concorrencia/\"\n",
    "            f\"precos/arquivos-lpc/{end.year}/\"\n",
    "            f\"resumo_semanal_lpc_{start:%Y-%m-%d}_{end:%Y-%m-%d}.xlsx\"\n",
    "        )\n",
    "        urls.append((url, start.strftime(\"%Y-%m-%d\"), end.strftime(\"%Y-%m-%d\")))\n",
    "\n",
    "        \n",
    "        start += timedelta(days=7)\n",
    "        end += timedelta(days=7)\n",
    "\n",
    "    return urls\n"
   ]
  },
  {
   "cell_type": "code",
   "execution_count": null,
   "id": "b980e494",
   "metadata": {},
   "outputs": [],
   "source": [
    "def collect_raw_data():\n",
    "    current_year = date.today().year\n",
    "    base_path = f\"../data/bronze/{current_year}\"\n",
    "    os.makedirs(base_path, exist_ok=True)\n",
    "\n",
    "    \n",
    "    for urls, week_start, week_end in generate_weekly_files():\n",
    "        date_end = datetime.strptime(week_end, \"%Y-%m-%d\").date()\n",
    "        month = date_end.month\n",
    "\n",
    "        \n",
    "        mkdir_month = f\"{base_path}/{month:02d}\"\n",
    "        os.makedirs(mkdir_month, exist_ok=True)\n",
    "\n",
    "        \n",
    "        file_path = f\"{mkdir_month}/{week_start}_{week_end}.xlsx\"\n",
    "\n",
    "        \n",
    "        if os.path.exists(file_path):\n",
    "            \n",
    "            continue\n",
    "\n",
    "        \n",
    "        resp = requests.get(urls)\n",
    "        if resp.status_code == 200:\n",
    "            with open(file_path, \"wb\") as f:\n",
    "                f.write(resp.content)\n",
    "            print(f\"Arquivo salvo: {file_path}\")\n",
    "        else:\n",
    "            print(f\"Erro ao baixar {urls} -> status {resp.status_code}\")\n"
   ]
  },
  {
   "cell_type": "code",
   "execution_count": null,
   "id": "434b0fd5",
   "metadata": {},
   "outputs": [],
   "source": [
    "collect_raw_data()"
   ]
  },
  {
   "cell_type": "markdown",
   "id": "558b305b",
   "metadata": {},
   "source": [
    "2. Transformação \n",
    "- Transformando os dados em CSV (dados consumíveis e consistentes)"
   ]
  },
  {
   "cell_type": "code",
   "execution_count": null,
   "id": "2610c546",
   "metadata": {},
   "outputs": [],
   "source": [
    "def generate_weekly_file_in_csv():\n",
    "    current_year = date.today().year\n",
    "    bronze_files = glob(f\"../data/bronze/{current_year}/*/*.xlsx\")\n",
    "    silver_path = f\"../data/silver/{current_year}\"\n",
    "    os.makedirs(silver_path, exist_ok=True)\n",
    "\n",
    "    for file in bronze_files:\n",
    "        try:\n",
    "            \n",
    "            month = os.path.basename(os.path.dirname(file))\n",
    "            \n",
    "            \n",
    "            xls = pd.ExcelFile(file, engine=\"openpyxl\")\n",
    "\n",
    "            \n",
    "            for sheet in xls.sheet_names:\n",
    "                try:\n",
    "                    \n",
    "                    df_temp = pd.read_excel(xls, sheet_name=sheet)\n",
    "                    header_row = df_temp.index[df_temp.iloc[:, 0] == \"DATA INICIAL\"][0]\n",
    "\n",
    "                    \n",
    "                    df = pd.read_excel(xls, sheet_name=sheet, header=header_row, skiprows=1)\n",
    "\n",
    "                    \n",
    "                    sheet_path = os.path.join(silver_path, month, sheet.upper())\n",
    "                    os.makedirs(sheet_path, exist_ok=True)\n",
    "\n",
    "                    \n",
    "                    base_name = os.path.basename(file).replace(\".xlsx\", f\"_{sheet.upper()}.csv\")\n",
    "                    csv_file = os.path.join(sheet_path, base_name)\n",
    "                    \n",
    "                    if os.path.exists(csv_file):\n",
    "                       \n",
    "                        continue\n",
    "                   \n",
    "                    df.to_csv(csv_file, index=False, encoding=\"utf-8-sig\")\n",
    "                    print(f\"Arquivo convertido: {csv_file}\")\n",
    "\n",
    "                except Exception as e:\n",
    "                    print(f\"Erro ao processar sheet {sheet} do arquivo {file}: {e}\")\n",
    "\n",
    "        except (BadZipFile, ValueError) as e:\n",
    "            print(f\"Arquivo inválido (pulado): {file} ({e})\")\n",
    "        except Exception as e:\n",
    "            print(f\"Erro inesperado em {file}: {e}\")\n"
   ]
  },
  {
   "cell_type": "code",
   "execution_count": null,
   "id": "5ae2f726",
   "metadata": {},
   "outputs": [],
   "source": [
    "generate_weekly_file_in_csv()"
   ]
  },
  {
   "cell_type": "code",
   "execution_count": null,
   "id": "b892f08e",
   "metadata": {},
   "outputs": [],
   "source": [
    "def cleaning_all_silver():\n",
    "  current_year = date.today().year\n",
    "  silver_path = glob(f\"../data/silver/{current_year}/*/*.csv\")\n",
    "  \n",
    "  for file in silver_path:\n",
    "    try:\n",
    "      df = pd.read_csv(file, encoding=\"utf-8-sig\")\n",
    "      df.columns = [\"\" if col.startswith(\"Unnamed\") else col for col in df.columns]\n",
    "      df.columns = df.columns.str.strip().str.upper()\n",
    "      if \"DATA INICIAL\" in df.columns:\n",
    "                df[\"DATA INICIAL\"] = pd.to_datetime(df[\"DATA INICIAL\"], errors=\"coerce\").dt.strftime(\"%d-%m-%y\")\n",
    "      if \"DATA FINAL\" in df.columns:\n",
    "                df[\"DATA FINAL\"] = pd.to_datetime(df[\"DATA FINAL\"], errors=\"coerce\").dt.strftime(\"%d-%m-%y\")      \n",
    "      df.to_csv(file, index=False, encoding=\"utf-8-sig\") \n",
    "     # print(df.head(1)) \n",
    "      print(df.columns)\n",
    "    except Exception as e:\n",
    "            print(f\"Erro inesperado em {file}: {e}\")"
   ]
  },
  {
   "cell_type": "code",
   "execution_count": null,
   "id": "a037bca6",
   "metadata": {},
   "outputs": [],
   "source": [
    "cleaning_all_silver()"
   ]
  },
  {
   "cell_type": "code",
   "execution_count": null,
   "id": "48396744",
   "metadata": {},
   "outputs": [],
   "source": []
  }
 ],
 "metadata": {
  "kernelspec": {
   "display_name": "venv",
   "language": "python",
   "name": "python3"
  },
  "language_info": {
   "codemirror_mode": {
    "name": "ipython",
    "version": 3
   },
   "file_extension": ".py",
   "mimetype": "text/x-python",
   "name": "python",
   "nbconvert_exporter": "python",
   "pygments_lexer": "ipython3",
   "version": "3.10.12"
  }
 },
 "nbformat": 4,
 "nbformat_minor": 5
}
